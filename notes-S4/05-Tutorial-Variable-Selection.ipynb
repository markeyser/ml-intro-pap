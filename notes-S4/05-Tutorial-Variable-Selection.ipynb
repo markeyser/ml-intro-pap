{
 "cells": [
  {
   "cell_type": "markdown",
   "metadata": {},
   "source": [
    "# Tutorial: Feature selection\n",
    "\n",
    "In this section we are going to use:\n",
    "\n",
    "- Kaggle competition data \n",
    "- Information about the competition\n",
    "- Your previous feature engineering analysis\n",
    "\n",
    "To perform an feature selection analysis. Using your own data try to follow the same steps we have seen on the demo."
   ]
  }
 ],
 "metadata": {
  "kernelspec": {
   "display_name": "Python 3",
   "language": "python",
   "name": "python3"
  },
  "language_info": {
   "codemirror_mode": {
    "name": "ipython",
    "version": 3
   },
   "file_extension": ".py",
   "mimetype": "text/x-python",
   "name": "python",
   "nbconvert_exporter": "python",
   "pygments_lexer": "ipython3",
   "version": "3.6.8"
  }
 },
 "nbformat": 4,
 "nbformat_minor": 2
}
