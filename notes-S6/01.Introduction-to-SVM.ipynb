{
 "cells": [
  {
   "cell_type": "markdown",
   "metadata": {},
   "source": [
    "# Introduction to Support Vector Machines"
   ]
  },
  {
   "cell_type": "markdown",
   "metadata": {},
   "source": [
    "In this lecture will discuss the formal definition of support to machines and then try to get an understanding of the intuition behind support vector machines or SVMs \n",
    "\n",
    "> If you want the mathematics behind this algorithm go ahead and read Chapter 9 of an **Introduction to Statistical Learning**. "
   ]
  },
  {
   "cell_type": "markdown",
   "metadata": {},
   "source": [
    "Support Vector Machines or SVMs as are also known are supervised learning models with associated learning algorithms that analyze data and recognize patterns. Their use for classification and regression analysis.\n",
    "\n",
    "In this lecture we'll be talking about their use for classification."
   ]
  },
  {
   "cell_type": "markdown",
   "metadata": {},
   "source": [
    "Given a set of trainee examples, each marked for belonging to one of two categories, so binary classification, an SVM training algorithm builds a model that assigns new examples into one category or the other, making it a non probabilistic binary linear classifier."
   ]
  },
  {
   "cell_type": "markdown",
   "metadata": {},
   "source": [
    "A SVM model is a representation of the examples as points in space,  mapped so that the examples of the separate categories are divided by a clear gap that is as wide as possible.\n",
    "\n",
    "And that's going to begin to set the intuition for an SVM that we'll see later on through some plots and diagrams.\n",
    "\n",
    "New examples are then mapped into that same space and predicted to belong to the category based on which side of that gap they fall on."
   ]
  },
  {
   "cell_type": "markdown",
   "metadata": {},
   "source": [
    "Let's try to understand the basic intuition through looking at some diagrams and some plotted out data.\n",
    "\n",
    "Imagine we have the training data below. Here we have two classes.\n",
    "\n",
    "\n",
    "![](../imgs/svm01.png)\n",
    "\n",
    "We have a blue class and a pink class.\n",
    "\n",
    "Now what we're going to try to do is a binary classification for new points.\n",
    "\n",
    "We want to put a new point on this plot, where the horizontal axis is some feature one and the y vertical axis is a feature too.\n",
    "\n",
    "When we put a new point we wanted the and does it belong to the blue class or the pink class.\n",
    "\n",
    "\n"
   ]
  },
  {
   "cell_type": "markdown",
   "metadata": {},
   "source": [
    "![](../imgs/svm02.png)"
   ]
  },
  {
   "cell_type": "markdown",
   "metadata": {},
   "source": [
    "Intuitively what we could do is draw a separating hyperplane. In the case of two dymensions is just a line between the classes.\n",
    "\n",
    "However we have lots of options of hyperplane that separate these two classes perfectly.\n",
    "\n",
    "Notice that the pink black and green line would all separate the blue and pink training points perfectly.\n",
    "\n",
    "![](../imgs/svm03.png)\n",
    "\n",
    "> **The question that arises: how do we actually choose the line that separates these classes the best?**\n",
    "\n",
    "What we would like to do is choose a hyperplane that maximizes the margin between the classes. So you'll see a diagram, typically it looks like this, where you have a separating hyperplane, here denoted as the dotted line and then a margin that extends out from that hyperplane.\n",
    "\n",
    "![](../imgs/svm04.png)"
   ]
  },
  {
   "cell_type": "markdown",
   "metadata": {},
   "source": [
    "The vector points at the margin line touch are known as **support vectors** and that's where the name support vector machines come from.\n",
    "\n",
    "![](../imgs/svm05.png)\n",
    "\n",
    "Here we can see the circle points that are the support vectors, those are the training points that actually touch those margin lines."
   ]
  },
  {
   "cell_type": "markdown",
   "metadata": {},
   "source": []
  },
  {
   "cell_type": "code",
   "execution_count": null,
   "metadata": {},
   "outputs": [],
   "source": []
  },
  {
   "cell_type": "code",
   "execution_count": null,
   "metadata": {},
   "outputs": [],
   "source": []
  },
  {
   "cell_type": "code",
   "execution_count": null,
   "metadata": {},
   "outputs": [],
   "source": []
  },
  {
   "cell_type": "markdown",
   "metadata": {},
   "source": [
    "\n",
    "\n",
    "We can expand this idea to non-linearly separable data through the use of a **kernel trick**.\n",
    "\n",
    "![](../imgs/svm06.png)\n",
    "\n",
    "That means if you take a look at the left hand plot, in two dimensions here. you may have a `X` label on `y` label and you'll notice that this data is not linearly separable because it's a loose circle in the middle of blue triangles and red outer circle of red circles and there's no way we can draw a straight line to separate these classes.\n",
    "\n",
    "However through the kernel trick what we do is we end up doing this in a higher dimension.\n",
    "\n",
    "In this case we look at a third Z label over on the right. Now we can see that this is separable in the third dimension through another hyperplane.\n",
    "\n",
    "![](../imgs/svm07.png)\n",
    "\n",
    "You can check out YouTube for a really nice 3D visualization videos explaining this idea.\n",
    "\n",
    "Now that you learn the theory behind support vector machines we can continue our understanding by building these models with Python.\n",
    "\n",
    "We'll start an example by predicting whether or not a tumor is malignant or benign by using a built in breast cancer dataset that comes with sikat learn.\n",
    "\n",
    "Then your portfolio project will apply these same concepts to the famous Iris."
   ]
  },
  {
   "cell_type": "code",
   "execution_count": null,
   "metadata": {},
   "outputs": [],
   "source": []
  }
 ],
 "metadata": {
  "kernelspec": {
   "display_name": "Python 3",
   "language": "python",
   "name": "python3"
  },
  "language_info": {
   "codemirror_mode": {
    "name": "ipython",
    "version": 3
   },
   "file_extension": ".py",
   "mimetype": "text/x-python",
   "name": "python",
   "nbconvert_exporter": "python",
   "pygments_lexer": "ipython3",
   "version": "3.6.6"
  }
 },
 "nbformat": 4,
 "nbformat_minor": 2
}
