{
 "cells": [
  {
   "cell_type": "markdown",
   "metadata": {},
   "source": [
    "# Rare Labels"
   ]
  },
  {
   "cell_type": "markdown",
   "metadata": {},
   "source": [
    "In this section, we are going to learn what rare labels are and what are the things to consider when rare labels are present in the variables. \n",
    "\n",
    "- Rare labels are those labels that appear only in a tiny proportion of the observation in a dataset. \n",
    "\n",
    "- For example, for the variable \"city\" where a US citizen lives:\n",
    "\n",
    "    - New York will be a very frequently category, as many people live in New York.\n",
    "    - Whereas Leavenworth is a rare category (few people live there)"
   ]
  },
  {
   "cell_type": "markdown",
   "metadata": {},
   "source": [
    "## Rare Labels effects\n",
    "\n",
    "_How do rare labels affect the performance and operationalization of Machine Learning models?_\n",
    "\n",
    "> \"Same impacts and considerations as with high cardinality.\"\n",
    "\n",
    "Rare labels have the same impacts and considerations as high cardinality variables. And these are:\n",
    "\n",
    "- The need to convert strings to numbers. Strings are incompatible with Scikit-Learn.\n",
    "- And over-fitting in tree-based algorithms \n",
    "- Operationalization problems carried over by an uneven distribution between the train and test sets. ## Rare label example\n",
    "\n",
    "Let's look at this example.\n",
    "\n",
    "![](../imgs/rare.png)\n",
    "\n",
    "We have two variables `Gender` and `Vehicle Make`. `Vehicle Make` shows some labels that are less frequent like `Mercedes`, `Seat`, `Toyota`, and `Nissan`. Other labels like `Ford` and `Renault` are more frequent within the dataset. \n",
    "\n",
    "When we separate the data into train and test, the frequent labels will likely appear in both the train and the test set as we see highlighted in green. \n",
    "\n",
    "But the less frequent labels will appear only on the train set, like `Mercedes`, `Seat`, `Toyota` and `Nissan` or only on the test set like `Seat`, `Toyota` and `BMW`. \n",
    "\n",
    "When the labels appear only on the training set, they may cause the model to overfit. And when the labels appear only on the test set, they may cause operational problems as we discussed in the previous lesson.\n",
    "\n",
    "![](../imgs/rare2.png)"
   ]
  },
  {
   "cell_type": "markdown",
   "metadata": {},
   "source": [
    "## Rare label example\n",
    "\n",
    "Let's look at this example.\n",
    "\n",
    "![](../imgs/rare.png)\n",
    "\n",
    "We have two variables `Gender` and `Vehicle Make`. `Vehicle Make` shows some labels that are less frequent like `Mercedes`, `Seat`, `Toyota` and `Nissan`. Other labels like `Ford` and `Renault` are more frequent within the dataset. \n",
    "\n",
    "When we separete the data intro train and test, the frequent labels will likelly appear in both, the train and the test set as we see highlighted in green. \n",
    "\n",
    "But the less frequent labels, will appear only on the train set, like like `Mercedes`, `Seat`, `Toyota` and `Nissan` or only on the test set like `Seat`, `Toyota` and `BMW`. \n",
    "\n",
    "When the labels appears only on the training set, they may cause the model to overfit. And when the labels appears only on the test set, they may cause opperational problems as we discussed in the previous lesson.\n",
    "\n",
    "![](../imgs/rare2.png)"
   ]
  },
  {
   "cell_type": "markdown",
   "metadata": {},
   "source": [
    "## Rare labels and deriving information\n",
    "\n",
    "One additional thing to consider for rare labels is how reliable it is to derive information from these labels. Let's look at this example extracted from the house prices dataset. \n",
    "\n",
    "![](../imgs/rare3.png)\n",
    "\n",
    "This dataset contains a series of characteristics about houses, and the idea is to try to estimate the price at which a house will be sold. \n",
    "\n",
    "So, let's look a the variable `Exterior2nd`, which refers to the materials that were used to build the exterior of the house. \n",
    "\n",
    "Most of the categories in this variable are present in less than 5% of the houses, which is indicated by the red line. \n",
    "\n",
    "In addition, the sales price varies a lot across these rare categories. Look at how the mean value goes up and down over the categories. In fact, it looks quite a noise.\n",
    "\n",
    "So, these rare labels could indeed be very predictive, or they could only introducing noise rather than information. And because the labels are underrepresented, we can't be sure whether there is a true impact or this is just noise. We could be over or underestimating the impact of these labels because they are only presented in a few houses. And also, machine learning models, just like our intuition, finds it hard to derive reliable information from these labels as well.\n",
    "\n",
    "![](../imgs/rare4.png)\n",
    "\n",
    "In fact, we could combine all these infrequent labels into a new label, which here in this example I called `rare`, and then we can have the overall effect on sale price from all those rare categories. And look at what happens here. In this particular example, all the houses that show rare values together, on average, are more expensive than the rest of the houses excepts for the ones in the first column."
   ]
  },
  {
   "cell_type": "markdown",
   "metadata": {},
   "source": [
    "## Summry\n",
    "\n",
    "- The string needs to be encoded to number for use with Scikit-Learn\n",
    "- Rare labels may cause over-fitting and operationalization problems, just like high cardinality.\n",
    "- Hard to understand the role of the rare label on the outcome prediction\n",
    "- Removing rare labels may improve model performance"
   ]
  }
 ],
 "metadata": {
  "kernelspec": {
   "display_name": "Python 3",
   "language": "python",
   "name": "python3"
  },
  "language_info": {
   "codemirror_mode": {
    "name": "ipython",
    "version": 3
   },
   "file_extension": ".py",
   "mimetype": "text/x-python",
   "name": "python",
   "nbconvert_exporter": "python",
   "pygments_lexer": "ipython3",
   "version": "3.6.8"
  }
 },
 "nbformat": 4,
 "nbformat_minor": 2
}
