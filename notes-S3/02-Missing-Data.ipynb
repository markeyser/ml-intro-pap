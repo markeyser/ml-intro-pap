{
 "cells": [
  {
   "cell_type": "markdown",
   "metadata": {},
   "source": [
    "# Missing Data"
   ]
  },
  {
   "cell_type": "markdown",
   "metadata": {},
   "source": [
    "## Missing Data Definition\n",
    "\n",
    "- Missing data, or missing values, occur when no data is sorted for a certain observation in a variable.\n",
    "- Missing data are a common occurrence in most datasets.\n",
    "- Missing data can have a significant effect on the conclusions that can be drawn from the data."
   ]
  },
  {
   "cell_type": "markdown",
   "metadata": {},
   "source": [
    "## Missing Data: Causes\n",
    "\n",
    "### Lost\n",
    "\n",
    "- A value is missing because it was forgotten, lost, or not stored properly.\n",
    "\n",
    "### Don't exist\n",
    "\n",
    "- E.g., a variable is created from the division of 2 variables, and the denominator takes 0.\n",
    "\n",
    "### Not found | Not Identified\n",
    "\n",
    "- E.g., when matching data against postcode, or date of birth, to enrich with more variables, and the postcode or dob are wrong or don't exist, the new variables will take NA."
   ]
  },
  {
   "cell_type": "markdown",
   "metadata": {},
   "source": [
    "## Missing Data: Impacts\n",
    "\n",
    "There are multiple things we need to consider when we encounter missing observations in our data.\n",
    "\n",
    "1. Scikit-Learn, which is the industry-standard Python library for Machine Learning, does not support missing data. Therefore, we need to transform those missing observations into numbers or remove them completely from the dataset. For this, we need to use missing data imputation techniques.\n",
    "\n",
    "2. But missing data imputation techniques may distort the original variable distribution and also the variable interactions, \n",
    "\n",
    "3. And this may affect the machine learning model performance because some models are making some assumptions over the variable distribution. \n",
    "\n",
    "So we need to be careful when choosing the right imputation technique. "
   ]
  },
  {
   "cell_type": "markdown",
   "metadata": {},
   "source": [
    "## Missing Data: Mechanisms\n",
    "\n",
    "There are three main mechanisms that lead to missing data:\n",
    "\n",
    "- MCAR: Missing Data Completely at Random\n",
    "- MAR: Missing Data at Random\n",
    "- MNAR: Missing Data not at Random\n",
    "\n",
    "Understanding the missing data mechanisms may help us choose the right missing data imputation technique.  "
   ]
  },
  {
   "cell_type": "code",
   "execution_count": null,
   "metadata": {},
   "outputs": [],
   "source": []
  }
 ],
 "metadata": {
  "kernelspec": {
   "display_name": "Python 3",
   "language": "python",
   "name": "python3"
  },
  "language_info": {
   "codemirror_mode": {
    "name": "ipython",
    "version": 3
   },
   "file_extension": ".py",
   "mimetype": "text/x-python",
   "name": "python",
   "nbconvert_exporter": "python",
   "pygments_lexer": "ipython3",
   "version": "3.6.6"
  }
 },
 "nbformat": 4,
 "nbformat_minor": 2
}
