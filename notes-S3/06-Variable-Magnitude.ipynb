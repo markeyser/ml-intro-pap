{
 "cells": [
  {
   "cell_type": "markdown",
   "metadata": {},
   "source": [
    "# Feature Magnitude\n",
    "\n",
    "In this section, we will understand why we need to consider the magnitude of our variables when training machine learning models.  \n",
    "\n",
    "## Linear Models\n",
    "\n",
    "In linear regression models, the scale of the variables used to estimate the output matters. \n",
    "\n",
    "Linear models are of the type:\n",
    "\n",
    "$ Y \\approx \\beta_0X_o + \\beta_1X_1 + \\beta_2X_2 + \\dots \\beta_nX_n $\n",
    "\n",
    "- $\\beta$ indicates the change in $Y$ per unit change of $X$\n",
    "- If $X$ changes scale, $\\beta$ will change its value\n",
    "\n",
    "> For example, if $X$ is a distance variable, just changing the scale from Kilometers to miles, will cause a change in the magnitude of the coefficient $\\beta$. \n",
    "\n",
    "\n",
    "- Regression coefficients depend on the magnitude of the variable\n",
    "- Features with bigger magnitudes dominate over features with small magnitudes\n",
    "\n",
    "So, in general, as much as possible, we want to have all the variables within a similar scale. "
   ]
  },
  {
   "cell_type": "markdown",
   "metadata": {},
   "source": [
    "## Feature Magnitude matters\n",
    "\n",
    "### For linear models:\n",
    "\n",
    "- The scale of the variable directly influences the regression coefficient\n",
    "- Variables with a bigger magnitude/value range dominate over the ones with smaller magnitude/value range\n",
    "\n",
    "### for non-linear models:\n",
    "\n",
    "- Gradient descent converges faster when features are on similar scales. Therefore, feature magnitude is also important for Neural Networks.\n",
    "- Feature scaling helps decrease the time to find support vectors for SVMs\n",
    "- Methods using Euclidean distances (or distances in general) are sensitive to feature magnitude as the distances are also sensitive to variations in the magnitude or scale of the predictors. Therefore, feature scaling is also required for methods that utilize distances calculations like near-neighbors and k-means clustering. "
   ]
  },
  {
   "cell_type": "markdown",
   "metadata": {},
   "source": [
    "## Algorithms sensitive to magnitude\n",
    "\n",
    "### The machine learning models affected bhy the magnitude of the feature are:\n",
    "\n",
    "- Linear and Logistic Regression\n",
    "- Neural Networks (Deep Learning)\n",
    "- Support Vector Machines\n",
    "- KNN\n",
    "- K-means clustering\n",
    "- Linear Discriminant Analysis (LDA)\n",
    "- Principal Component Analysis (PCA)\n",
    "\n",
    "### Machine learning algorithms insensitive to feature magnitude are the ones based on Trees:\n",
    "\n",
    "- Classificantion and Random Trees\n",
    "- Random Forests\n",
    "- Gradient Boosting Trees"
   ]
  }
 ],
 "metadata": {
  "kernelspec": {
   "display_name": "Python 3",
   "language": "python",
   "name": "python3"
  },
  "language_info": {
   "codemirror_mode": {
    "name": "ipython",
    "version": 3
   },
   "file_extension": ".py",
   "mimetype": "text/x-python",
   "name": "python",
   "nbconvert_exporter": "python",
   "pygments_lexer": "ipython3",
   "version": "3.6.6"
  }
 },
 "nbformat": 4,
 "nbformat_minor": 2
}
