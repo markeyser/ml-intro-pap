{
 "cells": [
  {
   "cell_type": "markdown",
   "metadata": {},
   "source": [
    "# Cardinality - Categorical Variables"
   ]
  },
  {
   "cell_type": "markdown",
   "metadata": {},
   "source": [
    "## Introduction\n",
    "\n",
    "In this section, we are going to understand what cardinality is and the things we need to consider when you see highly cardinal variables to build machine learning models.\n",
    "\n",
    "## Cardinality definition\n",
    "\n",
    "- The values of a categorical variable are selected from a group of categories (also called labels). This is, the values of categorical variables are generally strings and not numbers. \n",
    "- The number of different labels in a variable is known as **cardinality**."
   ]
  },
  {
   "cell_type": "markdown",
   "metadata": {},
   "source": [
    "## Cardinality examples\n",
    "\n",
    "- The variable gender contains only two labels (the cardinality is 2) in this example\n",
    "- Vehicle Make contains nine labels in the example table\n",
    "- The variables, city or postcode, can contain a huge number of different labels. They are highly cardinal.\n",
    "\n",
    "![](../imgs/cardinality.png)\n"
   ]
  },
  {
   "cell_type": "markdown",
   "metadata": {},
   "source": [
    "## Carcinality effects\n",
    "\n",
    "Are multiple labels in a categorical variable a challenge for machine learning?\n",
    "\n",
    "What are the things we need to consider when working with categorical and highly cardinal variables? \n",
    "\n",
    "## Cardinality: Impacts\n",
    "\n",
    "There are a few things to consider when working with categorical variables:\n",
    "\n",
    "- First, scikit-learn, which is the standard Python library for machine learning, does not support strings as inputs. Therefore, we need to transform those strings into numbers if we want to use them. \n",
    "- Second, highly cardinal variables mainly may lead to an uneven distribution of the labels between the train and test sets. \n",
    "- Which may derive in overfitting particularly in tree-based algorithms\n",
    "- Or operational problems when we want to use those models live."
   ]
  },
  {
   "cell_type": "markdown",
   "metadata": {},
   "source": [
    "# Strings and categorical encoding\n",
    "\n",
    "Scikit-learn does not support strings as inputs. Therefore, we need to encode those categories into numbers.\n",
    "\n",
    "We can use a variety of categorical variables encoding techniques to do so. And these techniques can alter the future space and also the interactions between the variables. "
   ]
  },
  {
   "cell_type": "markdown",
   "metadata": {},
   "source": [
    "# Uneven distribution between train and test sets\n",
    "\n",
    "When splitting into train and test set some categories of the variable may land only on the train set and some only on the test set. \n",
    "\n",
    "If labels or categories land only on the training set, the trained models may end up over-fitting to those labels. \n",
    "\n",
    "And on the other hand, if the categories appear only in the test set, the models will not know how to interpret the label because they haven't seen those while they been in train.\n",
    "\n",
    "For example, let's look at the variable `Vehicle Make` in this table. When we divide the dataset into train and set, we can see that some labels like Mercedes, Citroen and Nissan appear only on the training set, whereas other labels like Seat, Toyota and BMW appear only on the test set.\n",
    "\n",
    "![](../imgs/cardinality2.png)\n",
    "\n",
    "Those labels that appear only on the train set may cause over-fitting, whereas those labels that appear only on the test set may cause operational problems. "
   ]
  },
  {
   "cell_type": "markdown",
   "metadata": {},
   "source": [
    "## Overfitting\n",
    "\n",
    "Why can those labels cause over-fitting?\n",
    "\n",
    "### Cardinality and overfitting\n",
    "\n",
    "- Variables with too many labels tend to dominate over those with fewer labels, particularly in **tree-based algorithms**.\n",
    "\n",
    "- A big number of labels within a variable may introduce noise with little if any, information.\n",
    "\n",
    "- Reducing cardinality may help improve model performance "
   ]
  },
  {
   "cell_type": "markdown",
   "metadata": {},
   "source": [
    "## Operational problems\n",
    "\n",
    "- Models learn how to make predictions using the information they showed on the training set. \n",
    "- For new, unseen categories, the models will be unable to perform a calculation. They will not be able to understand what to make of the new label, and this could end up in the return of an error instead of a prediction. "
   ]
  },
  {
   "cell_type": "markdown",
   "metadata": {},
   "source": [
    "## Summary\n",
    "\n",
    "- Strings need to be encoded as numbers for use with Scikit-Learn\n",
    "- High cardinality may cause over-fitting and operation problems\n",
    "- Reducing cardinality may improve model performance"
   ]
  }
 ],
 "metadata": {
  "kernelspec": {
   "display_name": "Python 3",
   "language": "python",
   "name": "python3"
  },
  "language_info": {
   "codemirror_mode": {
    "name": "ipython",
    "version": 3
   },
   "file_extension": ".py",
   "mimetype": "text/x-python",
   "name": "python",
   "nbconvert_exporter": "python",
   "pygments_lexer": "ipython3",
   "version": "3.6.6"
  }
 },
 "nbformat": 4,
 "nbformat_minor": 2
}
