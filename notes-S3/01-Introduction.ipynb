{
 "cells": [
  {
   "cell_type": "markdown",
   "metadata": {},
   "source": [
    "# Feature Engineering - Introduction"
   ]
  },
  {
   "cell_type": "markdown",
   "metadata": {},
   "source": [
    "## Introduction\n",
    "\n",
    "This section tries to highlight why feature engineering is important and why and what aspects of variables we need to look at for and engineer before using them to build machine learning models. \n",
    "\n",
    "In this section, I will give you an overview of all the aspects of a variable that we will engineer through the session.\n",
    "\n",
    "## Objectives\n",
    "\n",
    "In this section, we want to understand the characteristics of the variables which need to be addressed before building machine learning models. Specifically:\n",
    "\n",
    "- Identify variable characteristics\n",
    "- Understand how they impact machine learning models\n",
    "- Examples of variables characteristics in real datasets\n",
    "\n",
    "\n",
    "## So what is feature engineering?\n",
    "\n",
    "In this session, we're going to revisit many of the feature engineerings\n",
    "steps that you can undertake depending on the machine learning model you're building to pre-process your data and leave it suitable to use to train machine learning mothers and make predictions."
   ]
  },
  {
   "cell_type": "markdown",
   "metadata": {},
   "source": [
    "\n",
    "![](../imgs/FeatureEng.png)"
   ]
  },
  {
   "cell_type": "markdown",
   "metadata": {},
   "source": [
    "So why we need to engineer features?\n",
    "\n",
    "That are a variety of problems that we can find in the variables in our datasets.\n",
    "\n",
    "### Presence Missing Data\n",
    "\n",
    "One of the problems is missing data.This is the absence of values for certain observations within a variable.\n",
    "\n",
    "### Presence of lagels in categoricl variables\n",
    "\n",
    "A second aspect that we need to tackle is the presence of labels in categorical variables. This is, the values of the variables are strings rather than numbers. And we can't use them as such in machine learning mothers. Certainly not in python using scikit-learn.\n",
    "\n",
    "### Presence of skewed variables\n",
    "\n",
    "A third consideration to keep in mind is the distribution of the variables for numerical variables. Specifically whether they follow a gosh distribution or if they are rather skewed. \n",
    "\n",
    "### Presence of outliers\n",
    "\n",
    "For some algorithms, the presence of outliers is also a problem. Outliers are unusual or unexpected by use within a variable. This is values that are extremely high or extremely low compared to the majority of all the other values for that same variable."
   ]
  },
  {
   "cell_type": "markdown",
   "metadata": {},
   "source": [
    "## Final Summary\n",
    "\n",
    "At this end of this session, you will find:\n",
    "\n",
    "- A table summarizing how the different variable characteristics affect the performance of different machine learning algorithms. This is going to be useful at the time of deciding how to reengineer your variables and which feature engineering technique to apply.\n",
    "\n",
    "This is the table location: `notes-S3/ML-Comparison.pdf`\n",
    "\n",
    "- Additional reading resources in case you want to read more about what is covered in this section.\n",
    "\n",
    "## Variable Characteristics\n",
    "\n",
    "Understand what are the different things we need to look out for when analyzing the variables in our datasets.\n",
    "\n",
    "What are the variable characteristics that we will cover in this session:\n",
    "\n",
    "\n",
    "1. **Missing Data** - Lack of information for some observations within a variable.\n",
    "2. **Categorical Variables** - How variables containing strings instead of numbers may affect ML models.\n",
    "3. **Outliers** -  Unusual or unexpected values. We will discuss how to identify outliers and why this is important. \n",
    "4. **Feature magnitude** - Scale of the different features. How the different magnitude of features may affect ML models."
   ]
  }
 ],
 "metadata": {
  "kernelspec": {
   "display_name": "Python 3",
   "language": "python",
   "name": "python3"
  },
  "language_info": {
   "codemirror_mode": {
    "name": "ipython",
    "version": 3
   },
   "file_extension": ".py",
   "mimetype": "text/x-python",
   "name": "python",
   "nbconvert_exporter": "python",
   "pygments_lexer": "ipython3",
   "version": "3.6.8"
  }
 },
 "nbformat": 4,
 "nbformat_minor": 2
}
