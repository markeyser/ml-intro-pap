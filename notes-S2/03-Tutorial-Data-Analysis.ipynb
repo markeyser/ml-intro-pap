{
 "cells": [
  {
   "cell_type": "markdown",
   "metadata": {},
   "source": [
    "# Tutorial: Exploratory Data Analysis"
   ]
  },
  {
   "cell_type": "markdown",
   "metadata": {},
   "source": [
    "In this section we are going to use:\n",
    "\n",
    "- Kaggle competition data \n",
    "- Information about the competition\n",
    "\n",
    "To perform an exploratory data analysis. Let's work on the following steps:\n",
    "\n",
    "## Basic questions\n",
    "\n",
    "- Whats the aim of the competition?\n",
    "- Where is the data located?\n",
    "- Let's see the data dictionary\n",
    "\n",
    "## Initial exploratory analysis\n",
    "\n",
    "- How many observations do I have?\n",
    "- How many features?\n",
    "- What are the data types of my features? Are they numeric? Categorical?\n",
    "- Do I have a target variable?\n",
    "\n",
    "Display the training set and let's answer the following questions:\n",
    "\n",
    "- Do the columns make sense?\n",
    "- Do the values in those columns make sense?\n",
    "- Are the values on the right scale?\n",
    "- Is missing data going to be a big problem based on a quick eyeball test?\n",
    "\n",
    "Following the demo let's explore:\n",
    "\n",
    "## Missing values analysis following\n",
    "\n",
    "## Relationship between the target and the missing variables\n",
    "\n",
    "## Explore numerical and temporal variables\n",
    "\n",
    "## Explore discrete variables\n",
    "\n",
    "## Explore continuous variables\n",
    "\n",
    "## Explore the outliers\n",
    "\n",
    "## Explore the categorical variables"
   ]
  },
  {
   "cell_type": "code",
   "execution_count": null,
   "metadata": {},
   "outputs": [],
   "source": []
  }
 ],
 "metadata": {
  "kernelspec": {
   "display_name": "Python 3",
   "language": "python",
   "name": "python3"
  },
  "language_info": {
   "codemirror_mode": {
    "name": "ipython",
    "version": 3
   },
   "file_extension": ".py",
   "mimetype": "text/x-python",
   "name": "python",
   "nbconvert_exporter": "python",
   "pygments_lexer": "ipython3",
   "version": "3.6.8"
  }
 },
 "nbformat": 4,
 "nbformat_minor": 2
}
