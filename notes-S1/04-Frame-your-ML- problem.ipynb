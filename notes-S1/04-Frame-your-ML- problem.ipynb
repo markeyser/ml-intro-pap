{
 "cells": [
  {
   "cell_type": "markdown",
   "metadata": {},
   "source": [
    "# Frame your ML Problem\n",
    "\n",
    "## Define Appropiately the Problem\n",
    "\n",
    "## Introduction\n",
    "\n",
    "![](../imgs/framing.png)\n",
    "\n",
    "The first, and one of the most critical things to do, is to find out what are the inputs and the expected outputs. The following questions must be answered:\n",
    "\n",
    "- What is the main objective? What are we trying to predict?\n",
    "- What are the target features?\n",
    "- What is the input data? Is it available?\n",
    "- What kind of problem are we facing? Binary classification? Clustering?\n",
    "- What is the expected improvement?\n",
    "- What is the current status of the target feature?\n",
    "- How is going to be measured the target feature?\n",
    "\n",
    "Not every problem can be solved, until we have a working model we just can make certain hypothesis:\n",
    "\n",
    "- Our outputs can be predicted given the inputs.\n",
    "- Our available data is sufficient informative to learn the relationship between the inputs and the outputs\n",
    "\n",
    "It is crucial to keep in mind that machine learning can only be used to memorize patterns that are present in the training data, so we can only recognize what we have seen before. When using Machine Learning we are making the assumption that the future will behave like the past, and this isn’t always true."
   ]
  },
  {
   "cell_type": "markdown",
   "metadata": {},
   "source": [
    "## Deciding on ML\n",
    "\n",
    "The following section outlines several things to think about before trying to frame a problem for machine learning.\n",
    "\n",
    "**Start Clearly and Simply**: In plain terms, what would you like your ML model to do?\n",
    "\n",
    "> Example: We want the ML model to predict how popular a video just uploaded will become in the future.\n",
    "\n",
    "At this point, the statement can be qualitative, but make sure this captures your real goal, not an indirect goal.\n",
    "\n",
    "**What is Your Ideal Outcome?**: Adding your ML model to your system should produce a desirable outcome. This outcome may be quite different from how you assess the model and its quality.\n",
    "\n",
    "> Example: In video recommendations: Our ideal outcome is to suggest videos that people find useful, entertaining, and worth their time.\n",
    "\n",
    "**Success and Failure Metrics**: How will you know if your system has succeeded or failed?\n",
    "\n",
    "Your success and failure metrics should be phrased independently of your evaluation metrics such as precision, recall, or AUC. Instead, specify the anticipated outcomes. Set your success metrics before you begin, to prevent sunk costs from motivating you to launch a mediocre model."
   ]
  },
  {
   "cell_type": "markdown",
   "metadata": {},
   "source": [
    "## Formulate Your Problem as an ML Problem\n",
    "\n",
    "This section is a guide to the suggested approach for framing an ML problem:\n",
    "\n",
    "**Articulate your problem**: decide if your problem is best framed as binary classification, regression, multi-class classification, etc.\n",
    "\n",
    "> Example: Our problem is best framed as 3-class, single-label classification, which predicts whether a video will be in one of three classes—{very popular, somewhat popular, not popular}—28 days after being uploaded.\n",
    "\n",
    "**Start simple**: an you simplify your problem? A simple model is easier to implement and understand. Once you have a full ML pipeline, you can iterate on the simple model with greater ease. Simple models provide a good baseline, even if you don't end up launching them. In fact, a simple model is probably better than you think.\n",
    "\n",
    "> Example: We will predict whether an uploaded video is likely to become popular or not (binary classification).\n",
    "\n",
    "**Identify Your Data Sources**: Provide answers to the following questions about your labels:\n",
    "\n",
    "- How much labeled data do you have?\n",
    "- What is the source of your label?\n",
    "- Is your label closely connected to the decision you will be making?\n",
    "\n",
    "> Example: Our data set consists of 100,000 examples about past uploaded videos with popularity data and video descriptions.\n",
    "\n",
    "**Ability to Learn**: Will the ML model be able to learn? List aspects of your problem that might cause difficulty learning. For example:\n",
    "\n",
    "- The data set doesn't contain enough positive labels.\n",
    "- The training data doesn't contain enough examples.\n",
    "- The labels are too noisy.\n",
    "- The system memorizes the training data, but has difficulty generalizing to new cases.\n",
    "\n",
    "> Example: The measure \"popular\" is subjective based on the audience and inconsistent across video genres. Tastes change over time, so today's \"popular\" video might be tomorrow's \"not popular\" video.\n",
    "\n",
    "**Think About Potential Bias**: Many dataset are biased in some way. These biases may adversely affect training and the predictions made. For example: \n",
    "\n",
    "- A biased data source may not translate across multiple contexts.\n",
    "- The training sets may not be representative of the ultimate users of the models and may therefore provide them with a negative experience.\n",
    "\n",
    "> Example: Since the measure \"popular\" is subjective, it is possible that the model will serve popular videos that reinforce unfair or biased societal views."
   ]
  }
 ],
 "metadata": {
  "kernelspec": {
   "display_name": "Python 3",
   "language": "python",
   "name": "python3"
  },
  "language_info": {
   "codemirror_mode": {
    "name": "ipython",
    "version": 3
   },
   "file_extension": ".py",
   "mimetype": "text/x-python",
   "name": "python",
   "nbconvert_exporter": "python",
   "pygments_lexer": "ipython3",
   "version": "3.6.8"
  }
 },
 "nbformat": 4,
 "nbformat_minor": 2
}
