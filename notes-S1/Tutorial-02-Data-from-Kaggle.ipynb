{
 "cells": [
  {
   "cell_type": "markdown",
   "metadata": {},
   "source": [
    "#  Tutorial 02: Choose your own dataset from Kaggle"
   ]
  },
  {
   "cell_type": "markdown",
   "metadata": {},
   "source": [
    "In this course, you need to choose any available Kaggle competition dataset of your interest. There are only three restrictions:\n",
    "\n",
    "- Select datasets from competitions related to supervised learning, either classification or regression problems.\n",
    "- The data must be structured data (tabulate data). \n",
    "- The datasets should be small enough to use with your laptop.\n",
    "\n",
    "First, you need to create a Kaggle account\n",
    "\n",
    "#### Create a Kaggle account\n",
    "\n",
    "-   Visit [Kaggle's website](http://www.kaggle.com/)\n",
    "    \n",
    "-   Click on the \"Create an account\" button and follow the instructions to set up your account\n",
    "    \n",
    "#### Download data sets from Kaggle\n",
    "\n",
    "Here you have two of the most popular Kaggle supervised learning datasets:\n",
    "\n",
    "-   Visit the [House Sale Price competition](https://www.kaggle.com/c/house-prices-advanced-regression-techniques/data) website, scroll down and click on `train.csv.zip` and then on the download button on the right. Unzip the content. Rename the data set to `houseprice.csv`\n",
    "\n",
    "-   Visit the [Titanic: Machine Learning from Disaster](https://www.kaggle.com/c/titanic/data) website, scroll down and click on `train.csv` and then on the download button on the right.\n",
    "\n",
    "I am going to use the above datasets to illustrate the concepts during the course.\n",
    "\n",
    "In this tutorial you need to devote some minutes to read about different competitions that attract your attention. Read the \"Overview\" and \"Data\" sections and try to frame the Machine Learning problem:\n",
    "\n",
    "Try to classify the competition as\n",
    "\n",
    "- Classification\n",
    "- Regression\n",
    "\n",
    "Try to classify the type of data used:\n",
    "\n",
    "- Structured\n",
    "- Unstructured\n",
    "\n",
    "For the next session, please, select any interesting competition you want to use as your personal project during this course."
   ]
  }
 ],
 "metadata": {
  "kernelspec": {
   "display_name": "Python 3",
   "language": "python",
   "name": "python3"
  },
  "language_info": {
   "codemirror_mode": {
    "name": "ipython",
    "version": 3
   },
   "file_extension": ".py",
   "mimetype": "text/x-python",
   "name": "python",
   "nbconvert_exporter": "python",
   "pygments_lexer": "ipython3",
   "version": "3.6.8"
  }
 },
 "nbformat": 4,
 "nbformat_minor": 2
}
