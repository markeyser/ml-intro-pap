{
 "cells": [
  {
   "cell_type": "markdown",
   "metadata": {},
   "source": [
    "# Introduction to the course"
   ]
  },
  {
   "cell_type": "markdown",
   "metadata": {},
   "source": [
    "## Instructor\n",
    "\n",
    "Marcos Aguilera Keyser \n",
    "\n",
    "[![slack in](../imgs/linkedin.png)](https://www.linkedin.com/in/markeyser/)"
   ]
  },
  {
   "cell_type": "markdown",
   "metadata": {},
   "source": [
    "## GitHub location of this course\n",
    "\n",
    "https://github.com/markeyser/ml-intro-pap"
   ]
  },
  {
   "cell_type": "markdown",
   "metadata": {},
   "source": [
    "## Session Calendar\n",
    "\n",
    "- Session 1: 9/5 (Thursday)\n",
    "- Session 2: 9/12 (Thursday)\n",
    "- Session 3: 9/13 (Friday)\n",
    "- Session 4: 9/19 (Thursday)\n",
    "- Session 5: 9/26 (Thursday)\n",
    "- Session 6: 10/3 (Thursday)\n",
    "\n",
    "All sessions in the evening 6-8:30 pm. "
   ]
  },
  {
   "cell_type": "markdown",
   "metadata": {},
   "source": [
    "## Teaching style\n",
    "\n",
    "Each seassion includes:\n",
    "\n",
    "    - Theory\n",
    "    - Tutorials \n",
    "    \n",
    "Also, you are going to work on you own Machine Learning project. You need to choose your problem and the corresponding dataset to use during the course."
   ]
  },
  {
   "cell_type": "markdown",
   "metadata": {},
   "source": [
    "## Knoledge Requirements\n",
    "\n",
    "To make the most out this course ideally:\n",
    "\n",
    "- Some knoledge about programming (Python)\n",
    "- Familiar with Probability and Statistics"
   ]
  },
  {
   "cell_type": "markdown",
   "metadata": {},
   "source": [
    "## Python programming\n",
    "\n",
    "In this course we are going to use:\n",
    "\n",
    "- Python 3.7 installation\n",
    "- Numpy\n",
    "- Pandas\n",
    "- Matplotlib\n",
    "- Seaborn\n",
    "- Scikit-Learn\n",
    "- Jupyter Notebooks / Lab\n",
    "\n",
    "If you don't have the above installation, you can get it following the next section.\n",
    "\n",
    "Any other Python 3 installation will also do the trick."
   ]
  },
  {
   "cell_type": "markdown",
   "metadata": {},
   "source": [
    "## Data Competition Websites\n",
    "\n",
    "Throughout the course, we will be using datasets publicly available in Kaggle so you will need to set up a Kaggle account which is totally free and will allow you to access to all data sets and competitions available in Kaggle to try your newly acquired skills. \n",
    "\n",
    "www.kaggle.com\n",
    "\n"
   ]
  },
  {
   "cell_type": "markdown",
   "metadata": {},
   "source": [
    "## Course curriculum overview\n",
    "\n",
    "This course contains six sections, each one covering the different steps of the machine learning pipeline. \n",
    "\n",
    "### Session 1: Frame the problem and Gather the data\n",
    "\n",
    "1. What is Machine Learning?\n",
    "2. Tools for Data Sicience\n",
    "    - **Tutorial 1**: Setting up your Machine Learning environment\n",
    "3. Machine Learning pipeline: Workflow of a Machine Learning project\n",
    "4. Frame your Machine Learning problem\n",
    "    - **Tutorial 2**: Choose your own dataset from Kaggle\n",
    "5. Data Science project structure\n",
    "    - **Tutorial 3**: Create your project directory\n",
    "6. Data types\n",
    "    - **Tutorial 4A**: Crash course in Jupyter\n",
    "    - **Tutorial 4B**: Pandas Basics (Reading Data Files, DataFrames, Data Selection)\n",
    "6. Version control for Data Scientists\n",
    "    - **Tutorial 5**: Getting started with Git and GitHub\n",
    "\n",
    "### Session 2: Data Analysis: Exploratory Data Analysis\n",
    "### Session 3: Data Pre-Processing: Feature Engineering\n",
    "### Session 4: Variable selection: Feature Selection\n",
    "### Session 5: Machine Learning Model Building and Evaluation\n",
    "### Session 6: Machine Learning Model Building and Evaluation"
   ]
  },
  {
   "cell_type": "code",
   "execution_count": null,
   "metadata": {},
   "outputs": [],
   "source": []
  }
 ],
 "metadata": {
  "kernelspec": {
   "display_name": "Python 3",
   "language": "python",
   "name": "python3"
  },
  "language_info": {
   "codemirror_mode": {
    "name": "ipython",
    "version": 3
   },
   "file_extension": ".py",
   "mimetype": "text/x-python",
   "name": "python",
   "nbconvert_exporter": "python",
   "pygments_lexer": "ipython3",
   "version": "3.6.8"
  }
 },
 "nbformat": 4,
 "nbformat_minor": 2
}
