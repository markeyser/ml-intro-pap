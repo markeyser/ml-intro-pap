{
 "cells": [
  {
   "cell_type": "markdown",
   "metadata": {},
   "source": [
    "# Tutorial 01: Setting up your ML Environment\n",
    "\n",
    "#### Install python and the required packages\n",
    "\n",
    "Follow this instructions if you don't have python installed in your computer.\n",
    "\n",
    "-   Visit the [continuum analytics websit](https://www.anaconda.com/download/)[e](https://www.continuum.io/downloads)\n",
    "    \n",
    "-   Scroll down and download the python 3.7 version\n",
    "    \n",
    "-   Install it according to your operating system by following the instructions\n",
    "    \n",
    "If you already have a regular Python 3 installation, you may risk conflicting version issues with Anaconda if the PYTHONPATH is not updated correctly. If you don't manage to run the notebooks in your current python installation, instead of installing Anaconda, try first creating a virtual environment using your python installation with python 3.7 and the package versions required for these lectures.\n",
    "\n",
    "\n",
    ">Instructions to install Anaconda distribution on a Windows machine:\n",
    ">\n",
    ">https://www.datacamp.com/community/tutorials/installing-anaconda-windows\n",
    ">\n",
    ">Instructions to install Anaconda distribution on a Mac / Linux machine:\n",
    ">\n",
    ">https://www.datacamp.com/community/tutorials/installing-anaconda-mac-os-x\n"
   ]
  },
  {
   "cell_type": "markdown",
   "metadata": {},
   "source": [
    "Note: if you cannot set up the avobe environment on your laptop you can follow the course using [Binder](https://mybinder.org/)."
   ]
  }
 ],
 "metadata": {
  "kernelspec": {
   "display_name": "Python 3",
   "language": "python",
   "name": "python3"
  },
  "language_info": {
   "codemirror_mode": {
    "name": "ipython",
    "version": 3
   },
   "file_extension": ".py",
   "mimetype": "text/x-python",
   "name": "python",
   "nbconvert_exporter": "python",
   "pygments_lexer": "ipython3",
   "version": "3.6.8"
  }
 },
 "nbformat": 4,
 "nbformat_minor": 2
}
