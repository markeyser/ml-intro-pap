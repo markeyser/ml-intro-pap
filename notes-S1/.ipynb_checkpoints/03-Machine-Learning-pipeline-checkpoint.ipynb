{
 "cells": [
  {
   "cell_type": "markdown",
   "metadata": {},
   "source": [
    "# Machine Learning pipeline Overview \n",
    "## Workflow of a Machine Learning project"
   ]
  },
  {
   "cell_type": "markdown",
   "metadata": {},
   "source": [
    "I will give you an overview of the typical machine learning pipeline. What do I mean by this? What I mean is that in this section we are going to revisit together the different sequential steps of a typical machine learning model building project.\n",
    "What do we do first? What do we do next? Essentially what are the things that we normally do when we are building or developing a machine learning model.\n",
    "\n",
    "Clearly these are the steps that we follow in business but; also, the steps that you follow when you're building a project as a hobby.\n",
    "\n",
    "Here we can see a typical machine learning pipeline.\n",
    "\n",
    "![](../imgs/ml-pipeline.png)"
   ]
  },
  {
   "cell_type": "markdown",
   "metadata": {},
   "source": [
    "You can see that it is composed of several different steps.\n",
    "\n",
    "## Gathering Data Scources\n",
    "\n",
    "The first step is gathering the data. But what do I mean by gathering the data? I mean collecting the data and making the data available to the data scientists so they can go ahead and build the machine learning models. \n",
    "\n",
    "Data typically comes from different areas of the business itself but also sometimes business by data from third parties or use data that is publicly available.\n",
    "\n",
    "So we need to think how are we going to make these data available to the data scientists so they can\n",
    "start analyzing it and making the machine learning models.\n",
    "\n",
    "## Data Analysis\n",
    "\n",
    "Once the data is made available to the data scientists the next step is data analysis.\n",
    "\n",
    "We need to get a good understanding of what the data is telling us.\n",
    "\n",
    "It is good practice to know the data well to get familiar with the variables, to know how the variables\n",
    "are **related** to each other and to what we want to predict if this was a supervised case. We need to know what variables we can use. Surely there are **regulations** in your business or which variables we cannot use.\n",
    "\n",
    "## Data Pre-Processing\n",
    "\n",
    "Once we have analyzed our data, we are familiar with the variables under nature. The next step is **feature engineering**. \n",
    "\n",
    "After data analysis We should help gain a good understanding of whether we can use the variables as they are. But if we need to transform them before passing them onto a machine learning algorithm. \n",
    "\n",
    "> During feature engineering we transform the variables to make them ready to be utilized in a machine learning model.\n",
    "\n",
    "I will go in more detail in the next lecture about this step because this is extremely important. But, just to give you a flavor here by feature engineering I mean: \n",
    "\n",
    "- Filling missin values, \n",
    "- Encoding categorical variables and dates among other things"
   ]
  },
  {
   "cell_type": "markdown",
   "metadata": {},
   "source": [
    "## Feature Selection\n",
    "\n",
    "After feature engineering, the next step is features selection.\n",
    "\n",
    "Why do we need to select features in the first place? Well there is a lot to say on why this step is vital for model deployment and I will cover that in a dedicated lecture in this course as well. \n",
    "\n",
    "> But in a nutshell, feature selection means finding those variables that are the **most predictive** ones and build the models using only those variables instead of the entire dataset.\n",
    "\n",
    "## Model Buildging\n",
    "\n",
    "Finally, the step that we take to like the most which is model building. Here we will typically build\n",
    "many or maybe a few different machine learning algorithms analyze their **performance**, and choose the one\n",
    "or the few ones that give us the best results.\n",
    "\n",
    "We typically evaluate many **statistical metrics** like the **mean squared error** (MSE) for regression or the **accuracy**\n",
    "or **area under the ROC** curve for classification. \n",
    "\n",
    "## Model Building Business uplift Evaluaton\n",
    "\n",
    "But these metrics are not enough. In business we need to go ahead and see how the model performance that we evaluated using statistical metrics relate to business value. So we evaluate what is the uplift in the business value.\n",
    "\n",
    "Here we can measure different things depending on the business area that we're working on.\n",
    "\n",
    "For example if we were building models for fraud, we would evaluate the amount of money that we would not disburse to fraudulent applications. Or if we were building models for advertising we can estimate\n",
    "the value that the new customers would bring if we were to use the model.\n",
    "\n",
    "## Model Deployment\n",
    "\n",
    "Once we build the model and it brings real business value then we're happy to proceed to a topic outside the scope of this course which is more the deployment.\n",
    "\n",
    "Now we are ready to deploy our model. And what do I mean by being ready to deploy our model? By this,\n",
    "by deploying our machine learning model, I mean putting our model in the cloud or in any other system where it can be then accessed by our other systems in the business in order to get its predictions.  \n",
    "\n",
    "By making our models available to other business systems we can then extract the real and maximum value\n",
    "of our machine learning algorithm.\n",
    "\n",
    "So what does it mean deploying a model in practical terms? what do we need to do? So going back to the machine learning pipeline, which steps of the pipelines are the ones that we need to deploy? Is it just the model? Not really. That would be really easy.\n",
    "We need to deploy at least these three steps of the pipeline. \n",
    "\n",
    "![](../imgs/ml-pipeline2.png)\n",
    "\n",
    "We need to make sure that the model that\n",
    "we put in the cloud or in any other of our computer systems, is capable of taking in the data and transforming\n",
    "its variables and then use only the selected variables to then make the predictions utilizing the models\n",
    "or algorithms that we built.\n",
    "\n",
    "So in essence we need to deploy an entire data and machine learning pipeline. That is why we speak of pipelines and not just of models.\n",
    "\n",
    "We need to deploy an entire pipeline, an entire sequence of steps that will allow us to get the data into where our model is located, transform the data fields with missing values, deal with outliers, etc. Then select or somehow use only the variables that we agreed are the most predictive ones and then utilize those variables to make a mathematical calculation utilized in either bespoke or off the shelf algorithms and then be able to get those predictions out and send them back to our business systems.\n",
    "\n",
    "So this is what more than a deployment means.\n",
    "\n",
    "\n",
    "\n",
    "\n"
   ]
  }
 ],
 "metadata": {
  "kernelspec": {
   "display_name": "Python 3",
   "language": "python",
   "name": "python3"
  },
  "language_info": {
   "codemirror_mode": {
    "name": "ipython",
    "version": 3
   },
   "file_extension": ".py",
   "mimetype": "text/x-python",
   "name": "python",
   "nbconvert_exporter": "python",
   "pygments_lexer": "ipython3",
   "version": "3.6.8"
  }
 },
 "nbformat": 4,
 "nbformat_minor": 2
}
