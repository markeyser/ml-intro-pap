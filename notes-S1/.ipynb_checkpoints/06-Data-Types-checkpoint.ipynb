{
 "cells": [
  {
   "cell_type": "markdown",
   "metadata": {},
   "source": [
    "# Data Types"
   ]
  },
  {
   "cell_type": "markdown",
   "metadata": {},
   "source": [
    "There are two main types of data we use in Machine Learning:\n",
    "\n",
    "- Structured Data (Tabular Data)\n",
    "- Unstructured Data (Images, text, audio, video, social media postings)\n",
    "\n",
    "In this course we are going to work with tabular data.\n",
    "\n",
    "## Structued Data: Tabular Data\n",
    "\n",
    "We are going to talk about tabular data.\n",
    "\n",
    "- What tabular data is?\n",
    "- Where you can find it?\n",
    "- Features\n",
    "- Feature engineering and deep learning\n",
    "\n",
    "Tabular data is the simpler data you can feed to a machine learning model.\n",
    "\n",
    "It's called tabular because it can be represented in a table with rows and columns. \n",
    "\n",
    "![](../imgs/tabular1.png)\n",
    "\n",
    "You can think of these as Excel spreadsheets, but very common are files called CSV which stands for comma separated\n",
    "values or TSV which is tab separated values files. There are many other formats which have a tabular nature. Essentially it's a file where data is organized in rows and columns.\n",
    "\n",
    "You find tables also in databases or when you have a collection of files that are all interconnected with keys that have relations with one another.\n",
    "\n",
    "![](../imgs/tabular2.png)\n",
    "\n",
    "So there's also tabular data. The data are arranged in tables and some of the columns of a table relate to columns of another table but they're still called tabular data."
   ]
  },
  {
   "cell_type": "markdown",
   "metadata": {},
   "source": [
    "So let's use an example to define some common vocabulary that will be used throughout the course:\n",
    "\n",
    "![](../imgs/tabular3.png)\n",
    "\n",
    "- A row in a table corresponds to a **data point** and it's often referred to as a record.\n",
    "\n",
    "![](../imgs/tabular4.png)\n",
    "\n",
    "A record is a list of attributes that a data point has.Often these are numbers but sometimes there are categories and they could be expressed in text. These numbers that describe a record are also called **features**.\n",
    "\n",
    "![](../imgs/tabular5.png)\n",
    "\n",
    "In machine learning a feature is an individual measurable property of something that is being observed. In other words, features are the properties we're using to characterize our data.\n",
    "\n",
    "- Measured\n",
    "- Calculated (Engineered)\n",
    "\n",
    "These features could be directly measurable.For example think of the number of times a user visited your website or the browser that they use or\n",
    "the time that they did your website at, and so on. \n",
    "\n",
    "Or features could also be inferred from other features. In this case, they're called calculated features or engineered, for example that's when you calculate the average time between to user visits from the history of all the visits of the same user.\n",
    "\n",
    "So the process of calculating new features goes under the name of feature engineering."
   ]
  },
  {
   "cell_type": "markdown",
   "metadata": {},
   "source": [
    "## Types of Variables\n",
    "\n",
    "\n",
    "![](../imgs/variableTypes5.png)\n",
    "\n",
    "![](../imgs/variableTypes6.png)\n",
    "\n",
    "We also need to consider there are two different types of variables.\n",
    "\n",
    "Data could be continuous or discrete. Discrete means data can only assume certain values discrete and\n",
    "different from one another.\n",
    "\n",
    "This is called categorical data. Continues means that data can take any value in the real axis for example.\n",
    "So here are a few examples of what categorical features and continue officiers could look like.\n",
    "\n",
    "Categorical features could be something like eye color or which courses you've taken at the university or the gender\n",
    "or binary feature for example easy to spam email or not continuous seizures or things like height or\n",
    "the weight of an object.\n",
    "\n",
    "The speed of something in general anything you can measure.\n",
    "\n",
    "Another important thing to keep in mind is that not all the features can be as informative.\n",
    "\n",
    "![](../imgs/irrelevance.png)\n",
    "\n",
    "Some features may be completely irrelevant for what we are trying to do.\n",
    "For example if you're trying to predict how likely a user is to buy your product probably his first\n",
    "and last name will have no predictive power in that or in the example you're seeing.\n",
    "If you're trying to predict if the user is going to pay off its credit or not its user id client one\n",
    "or a client two will probably have no predictive power.\n",
    "On the other hand previous purchases in the case of a user or previous insolvency may carry a lot of\n",
    "information in terms of the predictive power that they have.\n",
    "Traditionally a lot of emphasis has been attributed to feature engineering and feature selection.\n",
    "These were considered and are still considered very important steps in building a machine learning models.\n",
    "\n",
    "Deep learning however brought a revolution in that because it solves the problem by automatically figuring\n",
    "out the important features and building higher order or a combination of simpler features deeper in\n",
    "the network.\n",
    "\n",
    "So for example as you will learn a network that recognises objects in an image will build deeper and\n",
    "more complex hierarchical representations.\n",
    "\n",
    "As you go deeper in the architecture This is another reason why deep learning is so popular it automates\n",
    "the complicated process of engineering features that work for the problem you have to solve.\n",
    "So in conclusion in this video we talked about tabular data and how it's organized in columns and rows.\n",
    "We talked about discrete and continuous features.\n",
    "We talked about measured and calculated or engineered features and we explain how deep learning is actually\n",
    "feature learning is very good at figuring out complex features that will help you solve a problem."
   ]
  },
  {
   "cell_type": "markdown",
   "metadata": {},
   "source": [
    "## Unstructure Data"
   ]
  },
  {
   "cell_type": "markdown",
   "metadata": {},
   "source": [
    "As you mentioned earlier you could be dealing with images, you could be dealing with sound, you could\n",
    "be dealing with text or even more exotic data types for example movies or protein molecular structures\n",
    "or video games and many other types of data."
   ]
  }
 ],
 "metadata": {
  "kernelspec": {
   "display_name": "Python 3",
   "language": "python",
   "name": "python3"
  },
  "language_info": {
   "codemirror_mode": {
    "name": "ipython",
    "version": 3
   },
   "file_extension": ".py",
   "mimetype": "text/x-python",
   "name": "python",
   "nbconvert_exporter": "python",
   "pygments_lexer": "ipython3",
   "version": "3.6.8"
  }
 },
 "nbformat": 4,
 "nbformat_minor": 2
}
