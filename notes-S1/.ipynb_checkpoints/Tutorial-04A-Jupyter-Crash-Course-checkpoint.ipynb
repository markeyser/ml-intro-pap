{
 "cells": [
  {
   "cell_type": "markdown",
   "metadata": {},
   "source": [
    "# Tutorial 4A - Crash course in Jupyer Lab"
   ]
  },
  {
   "cell_type": "markdown",
   "metadata": {},
   "source": [
    "## Intro\n",
    "\n",
    "- Jupiter note books use a `.ipynb` extension which stands for Python notebook file format but they can be saved to a dot Peewee file `.py` file.\n",
    "- You need the command line to open any Jupyter Notebook or Jupyter Lab file. \n"
   ]
  },
  {
   "cell_type": "markdown",
   "metadata": {},
   "source": [
    "## How to open your Jupyter Notebook\n",
    "\n",
    "Open your Anaconda promt and use `cd` command to move to the project directory: \n",
    "\n",
    "![](../imgs/terminal1.png)\n",
    "\n",
    "Then start your Jupyter server using the following command:\n",
    "\n",
    "```bash\n",
    "$ jupyter lab\n",
    "```\n",
    "\n",
    "![](../imgs/terminal2.png)\n",
    "\n",
    "You are in! Create a new Jupyter Notebook! (Or if you already have, open an existing one.)"
   ]
  },
  {
   "cell_type": "markdown",
   "metadata": {},
   "source": [
    "## How to use Jupyter Notebook"
   ]
  },
  {
   "cell_type": "markdown",
   "metadata": {},
   "source": [
    "You should see a screen similar to this one.\n",
    "\n",
    "- How to create a new notebook\n",
    "- You also can create a new texfile, folder or terminal\n",
    "- You haver several options to open your new notebook (Python, R, etc.) depending on how many langagues you are using."
   ]
  },
  {
   "cell_type": "markdown",
   "metadata": {},
   "source": [
    "1. Type your Python command! It can be a multi-line command too – if you hit return/enter, it won’t run, it will just start a new line in the same cell!"
   ]
  },
  {
   "cell_type": "code",
   "execution_count": null,
   "metadata": {},
   "outputs": [],
   "source": [
    "print('Hello World!')\n",
    "print('This is just another line')"
   ]
  },
  {
   "cell_type": "markdown",
   "metadata": {},
   "source": [
    "2. Hit `SHIFT + ENTER` to run your Python command!"
   ]
  },
  {
   "cell_type": "code",
   "execution_count": 1,
   "metadata": {},
   "outputs": [
    {
     "name": "stdout",
     "output_type": "stream",
     "text": [
      "Hello World!\n",
      "This is just another line\n"
     ]
    }
   ],
   "source": [
    "print('Hello World!')\n",
    "print('This is just another line')"
   ]
  },
  {
   "cell_type": "markdown",
   "metadata": {},
   "source": [
    "3. Start typing and hit `TAB`! If it’s possible, Jupyter will auto-complete your expression (eg. for Python commands or for variables that you have already defined). If there is more than one possibility, you can choose from a drop-down menu.\n",
    "\n",
    "![](../imgs/jupyter1.png)"
   ]
  },
  {
   "cell_type": "markdown",
   "metadata": {},
   "source": [
    "### Keyboard Shortcuts\n",
    "\n",
    "- Toggle between edit and command mode with `Esc` and `Enter`, respectively.\n",
    "- Once in command mode:\n",
    "     - Scroll up and down your cells with your Up and Down keys.\n",
    "     - Press `A` or `B` to insert a new cell above or below the active cell.\n",
    "     - `M` will transform the active cell to a Markdown cell."
   ]
  },
  {
   "cell_type": "markdown",
   "metadata": {},
   "source": [
    "## Using markdown to create comments\n",
    "\n",
    "Using `ESC + M` you can transform the active ceel to a Markdown cell "
   ]
  },
  {
   "cell_type": "markdown",
   "metadata": {},
   "source": [
    "This is a Markdown cell, notes for me!"
   ]
  },
  {
   "cell_type": "markdown",
   "metadata": {},
   "source": [
    "[Here](https://nbviewer.jupyter.org/github/twistedhardware/mltutorial/blob/master/notebooks/jupyter/2.%20Markdown%20%26%20LaTeX.ipynb) you have a Markdown crash course"
   ]
  },
  {
   "cell_type": "markdown",
   "metadata": {},
   "source": [
    "## How to see the lists of the methods available for an object"
   ]
  },
  {
   "cell_type": "markdown",
   "metadata": {},
   "source": [
    "If I have an object `X` and it's going to be a string and then I run `SHIFT + ENTER` to actually define that"
   ]
  },
  {
   "cell_type": "code",
   "execution_count": 2,
   "metadata": {},
   "outputs": [],
   "source": [
    "x = 'string'"
   ]
  },
  {
   "cell_type": "markdown",
   "metadata": {},
   "source": [
    "I can type in `X` and I see the output of the string:"
   ]
  },
  {
   "cell_type": "code",
   "execution_count": 3,
   "metadata": {},
   "outputs": [
    {
     "data": {
      "text/plain": [
       "'string'"
      ]
     },
     "execution_count": 3,
     "metadata": {},
     "output_type": "execute_result"
    }
   ],
   "source": [
    "x"
   ]
  },
  {
   "cell_type": "markdown",
   "metadata": {},
   "source": [
    "But strings have methods available to them:"
   ]
  },
  {
   "cell_type": "code",
   "execution_count": 5,
   "metadata": {},
   "outputs": [
    {
     "data": {
      "text/plain": [
       "'STRING'"
      ]
     },
     "execution_count": 5,
     "metadata": {},
     "output_type": "execute_result"
    }
   ],
   "source": [
    "x.upper()"
   ]
  },
  {
   "cell_type": "markdown",
   "metadata": {},
   "source": [
    "Now you may be wondering well how the heck am I supposed to know all the methods available. Well luckily Jupiter helps you out.\n",
    "\n",
    "So if you have an object that's already been defined, remember you have to run a cell in order to find the object. Now that is the that can say `X.` dot and a hit tab onto my keyboard and I can see all the various methods that are available to me here. So lots of methods.\n",
    "\n",
    "![](../imgs/jupyter2.png)"
   ]
  },
  {
   "cell_type": "markdown",
   "metadata": {},
   "source": [
    "## How to see documentation strings"
   ]
  },
  {
   "cell_type": "markdown",
   "metadata": {},
   "source": [
    "So if we use a built in functions such as `sum()` I can do `SHIFT + TAB` after this to see the documentation string.\n",
    "\n",
    "![](../imgs/jupyter3.png)"
   ]
  },
  {
   "cell_type": "code",
   "execution_count": null,
   "metadata": {},
   "outputs": [],
   "source": [
    "sum()"
   ]
  },
  {
   "cell_type": "markdown",
   "metadata": {},
   "source": [
    "Now again the function needs to be defined in order to actually see the documentation string for it.\n",
    "\n",
    "So if you're working with your own custom function make sure you actually run the self first.\n",
    "\n",
    "That defines that function in order to see the documentation string later on."
   ]
  }
 ],
 "metadata": {
  "kernelspec": {
   "display_name": "Python 3",
   "language": "python",
   "name": "python3"
  },
  "language_info": {
   "codemirror_mode": {
    "name": "ipython",
    "version": 3
   },
   "file_extension": ".py",
   "mimetype": "text/x-python",
   "name": "python",
   "nbconvert_exporter": "python",
   "pygments_lexer": "ipython3",
   "version": "3.6.8"
  }
 },
 "nbformat": 4,
 "nbformat_minor": 2
}
